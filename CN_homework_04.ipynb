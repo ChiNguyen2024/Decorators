{
  "cells": [
    {
      "cell_type": "markdown",
      "metadata": {
        "id": "QY4qPJPpgyIS"
      },
      "source": [
        "# Домашнее задание: декораторы"
      ]
    },
    {
      "cell_type": "markdown",
      "metadata": {
        "id": "Chacc6YchldZ"
      },
      "source": [
        "## Импорт библиотек, установка констант"
      ]
    },
    {
      "cell_type": "code",
      "execution_count": 1,
      "metadata": {
        "id": "w8iKrWvwhrFd"
      },
      "outputs": [],
      "source": [
        "import requests\n",
        "import time\n",
        "import re\n",
        "import functools\n",
        "\n",
        "from random import randint"
      ]
    },
    {
      "cell_type": "code",
      "execution_count": 2,
      "metadata": {
        "id": "-LRkS0fSi8Np"
      },
      "outputs": [],
      "source": [
        "BOOK_PATH = 'https://www.gutenberg.org/files/2638/2638-0.txt'"
      ]
    },
    {
      "cell_type": "markdown",
      "metadata": {
        "id": "kARfL8ifg4MH"
      },
      "source": [
        "## Задание 1"
      ]
    },
    {
      "cell_type": "code",
      "execution_count": 3,
      "metadata": {
        "colab": {
          "base_uri": "https://localhost:8080/"
        },
        "id": "hNHNWPhngrUl",
        "outputId": "39593606-c41f-476c-ec99-2ba914e8ab7f"
      },
      "outputs": [
        {
          "name": "stdout",
          "output_type": "stream",
          "text": [
            "Время выполнения функции word_count : 2.854670900036581\n",
            "Cлово whole встречается 176 раз\n"
          ]
        }
      ],
      "source": [
        "def benchmark(func):\n",
        "  @functools.wraps(func)\n",
        "  def wrapper(*args, **kwargs):\n",
        "    t1=time.perf_counter()\n",
        "    result=func(*args, **kwargs)\n",
        "    t2=time.perf_counter()\n",
        "    print('Время выполнения функции', func.__name__,':',t2-t1)\n",
        "    return result\n",
        "  return wrapper\n",
        "\n",
        "\n",
        "@benchmark\n",
        "def word_count(word, url='https://www.gutenberg.org/files/2638/2638-0.txt'):\n",
        "\n",
        "    # отправляем запрос в библиотеку Gutenberg и забираем текст\n",
        "    raw = requests.get(url).text\n",
        "\n",
        "    # заменяем в тексте все небуквенные символы на пробелы\n",
        "    processed_book = re.sub('[\\W]+' , ' ', raw).lower()\n",
        "\n",
        "    # считаем\n",
        "    cnt = len(re.findall(word.lower(), processed_book))\n",
        "\n",
        "    return f\"Cлово {word} встречается {cnt} раз\"\n",
        "\n",
        "print(word_count('whole'))"
      ]
    },
    {
      "cell_type": "markdown",
      "metadata": {
        "id": "tGlbUKjihL5n"
      },
      "source": [
        "## Задание 2"
      ]
    },
    {
      "cell_type": "code",
      "execution_count": 4,
      "metadata": {
        "colab": {
          "base_uri": "https://localhost:8080/"
        },
        "id": "wugOZDLqhNe-",
        "outputId": "2bb9f1f4-52eb-4288-bfdd-bd7481c44dd7"
      },
      "outputs": [
        {
          "name": "stdout",
          "output_type": "stream",
          "text": [
            "Функция вызвана с параметрами:\n",
            "('whole',), {}\n",
            "Cлово whole встречается 176 раз\n"
          ]
        }
      ],
      "source": [
        "def logging(func):\n",
        "  @functools.wraps(func)\n",
        "  def wrapper(*args, **kwargs):\n",
        "    res=func(*args, **kwargs)\n",
        "    print(\"Функция вызвана с параметрами:\")\n",
        "    print(args, end=', ')\n",
        "    print(kwargs)\n",
        "    return res\n",
        "  return wrapper\n",
        "\n",
        "@logging\n",
        "def word_count(word, url='https://www.gutenberg.org/files/2638/2638-0.txt'):\n",
        "\n",
        "    # отправляем запрос в библиотеку Gutenberg и забираем текст\n",
        "    raw = requests.get(url).text\n",
        "\n",
        "    # заменяем в тексте все небуквенные символы на пробелы\n",
        "    processed_book = re.sub('[\\W]+' , ' ', raw).lower()\n",
        "\n",
        "    # считаем\n",
        "    cnt = len(re.findall(word.lower(), processed_book))\n",
        "\n",
        "    return f\"Cлово {word} встречается {cnt} раз\"\n",
        "\n",
        "print(word_count('whole'))\n",
        "\n"
      ]
    },
    {
      "cell_type": "markdown",
      "metadata": {
        "id": "Sq1tv5fshTfv"
      },
      "source": [
        "## Задание 3"
      ]
    },
    {
      "cell_type": "code",
      "execution_count": 5,
      "metadata": {
        "colab": {
          "base_uri": "https://localhost:8080/"
        },
        "id": "9nyvuxXkhVeb",
        "outputId": "9f836112-08a9-4c36-f1dc-a7a6959394f8"
      },
      "outputs": [
        {
          "name": "stdout",
          "output_type": "stream",
          "text": [
            "Функция была вызвана: 1 раз\n",
            "Cлово whole встречается 176 раз\n"
          ]
        }
      ],
      "source": [
        "def counter(func):\n",
        "    num = 0\n",
        "    @functools.wraps(func)   \n",
        "    def wrapper(*args, **kwargs):\n",
        "        nonlocal num\n",
        "        num += 1\n",
        "        res = func(*args, **kwargs)\n",
        "        print(f\"Функция была вызвана: {num} раз\")\n",
        "        return res\n",
        "    return wrapper\n",
        "\n",
        "@counter\n",
        "def word_count(word, url='https://www.gutenberg.org/files/2638/2638-0.txt'):\n",
        "\n",
        "    # отправляем запрос в библиотеку Gutenberg и забираем текст\n",
        "    raw = requests.get(url).text\n",
        "\n",
        "    # заменяем в тексте все небуквенные символы на пробелы\n",
        "    processed_book = re.sub('[\\W]+' , ' ', raw).lower()\n",
        "\n",
        "    # считаем\n",
        "    cnt = len(re.findall(word.lower(), processed_book))\n",
        "\n",
        "    return f\"Cлово {word} встречается {cnt} раз\"\n",
        "\n",
        "print(word_count('whole'))"
      ]
    },
    {
      "cell_type": "markdown",
      "metadata": {
        "id": "uHn8Adfshz5q"
      },
      "source": [
        "## Задание 4"
      ]
    },
    {
      "cell_type": "code",
      "execution_count": 6,
      "metadata": {
        "colab": {
          "base_uri": "https://localhost:8080/",
          "height": 106
        },
        "id": "R7uu6WtGifNX",
        "outputId": "44546738-7218-48fe-8747-8f0416482356"
      },
      "outputs": [],
      "source": [
        "\n",
        "def memo(func):\n",
        "  cache = {}\n",
        "  @wraps(func) \n",
        "  def fmemo(*args):\n",
        "    for arg in args:\n",
        "      if arg not in cache:\n",
        "        cache[arg] = func(arg)\n",
        "      return cache[arg]\n",
        "  return fmemo"
      ]
    },
    {
      "cell_type": "markdown",
      "metadata": {
        "id": "Zn5UQCa_izxo"
      },
      "source": [
        "## Тестирование"
      ]
    },
    {
      "cell_type": "code",
      "execution_count": 7,
      "metadata": {
        "colab": {
          "base_uri": "https://localhost:8080/",
          "height": 211
        },
        "id": "CHCJ64I8i2QB",
        "outputId": "7e5f3447-1227-46ca-b1fa-4cd2bb4c4aa0"
      },
      "outputs": [
        {
          "name": "stdout",
          "output_type": "stream",
          "text": [
            "Время выполнения функции word_count : 4.218797600013204\n",
            "Функция вызвана с параметрами:\n",
            "('whole',), {}\n",
            "Функция была вызвана: 1 раз\n",
            "Cлово whole встречается 176 раз\n"
          ]
        }
      ],
      "source": [
        "@counter\n",
        "@logging\n",
        "@benchmark\n",
        "\n",
        "def word_count(word, url=BOOK_PATH):\n",
        "    \"\"\"\n",
        "    Функция для посчета указанного слова на html-странице\n",
        "    \"\"\"\n",
        "\n",
        "    # отправляем запрос в библиотеку Gutenberg и забираем текст\n",
        "    raw = requests.get(url).text\n",
        "\n",
        "    # заменяем в тексте все небуквенные символы на пробелы\n",
        "    processed_book = re.sub('[\\W]+' , ' ', raw).lower()\n",
        "\n",
        "    # считаем\n",
        "    cnt = len(re.findall(word.lower(), processed_book))\n",
        "\n",
        "    return f\"Cлово {word} встречается {cnt} раз\"\n",
        "\n",
        "print(word_count('whole'))"
      ]
    },
    {
      "cell_type": "code",
      "execution_count": 8,
      "metadata": {
        "id": "ZE4Rfn-hh3k3"
      },
      "outputs": [],
      "source": [
        "def fib(n):\n",
        "    if n < 2:\n",
        "        return n\n",
        "    return fib(n-2) + fib(n-1)"
      ]
    },
    {
      "cell_type": "code",
      "execution_count": 20,
      "metadata": {
        "id": "Io94NyjiiXG4"
      },
      "outputs": [
        {
          "name": "stdout",
          "output_type": "stream",
          "text": [
            "fib took 0.000002 seconds to complete\n",
            "fib took 0.000002 seconds to complete\n",
            "fib took 0.000002 seconds to complete\n",
            "fib took 0.000058 seconds to complete\n",
            "fib took 0.000358 seconds to complete\n",
            "fib took 0.000002 seconds to complete\n",
            "fib took 0.000002 seconds to complete\n",
            "fib took 0.000049 seconds to complete\n",
            "fib took 0.000001 seconds to complete\n",
            "fib took 0.000001 seconds to complete\n",
            "fib took 0.000001 seconds to complete\n",
            "fib took 0.000043 seconds to complete\n",
            "fib took 0.000083 seconds to complete\n",
            "fib took 0.000174 seconds to complete\n",
            "fib took 0.000574 seconds to complete\n"
          ]
        },
        {
          "data": {
            "text/plain": [
              "5"
            ]
          },
          "execution_count": 20,
          "metadata": {},
          "output_type": "execute_result"
        }
      ],
      "source": [
        "# измеряем время выполнения\n",
        "import time\n",
        "from functools import wraps\n",
        "\n",
        "def timeit(func):\n",
        "    @wraps(func)\n",
        "    def wrapper(*args, **kwargs):\n",
        "        start = time.perf_counter()\n",
        "        result = func(*args, **kwargs)\n",
        "        end = time.perf_counter()\n",
        "        print(f'{func.__name__} took {end - start:.6f} seconds to complete')\n",
        "        return result\n",
        "    return wrapper\n",
        "\n",
        "@timeit\n",
        "def fib(n):\n",
        "    if n < 2:\n",
        "        return n\n",
        "    return fib(n-2) + fib(n-1)\n",
        "fib(5)"
      ]
    },
    {
      "cell_type": "code",
      "execution_count": 21,
      "metadata": {
        "id": "W9B3e-t9iTUj"
      },
      "outputs": [
        {
          "name": "stdout",
          "output_type": "stream",
          "text": [
            "fib took 0.000003 seconds to complete\n",
            "fib took 0.000004 seconds to complete\n",
            "fib took 0.000002 seconds to complete\n",
            "fib took 0.000047 seconds to complete\n",
            "fib took 0.000216 seconds to complete\n",
            "fib took 0.000002 seconds to complete\n",
            "fib took 0.000002 seconds to complete\n",
            "fib took 0.000035 seconds to complete\n",
            "fib took 0.000292 seconds to complete\n"
          ]
        },
        {
          "data": {
            "text/plain": [
              "5"
            ]
          },
          "execution_count": 21,
          "metadata": {},
          "output_type": "execute_result"
        }
      ],
      "source": [
        "@timeit\n",
        "@memo\n",
        "def fib(n):\n",
        "    if n < 2:\n",
        "        return n\n",
        "    return fib(n-2) + fib(n-1)\n",
        "fib(5)"
      ]
    }
  ],
  "metadata": {
    "colab": {
      "provenance": []
    },
    "kernelspec": {
      "display_name": "Python 3",
      "name": "python3"
    },
    "language_info": {
      "codemirror_mode": {
        "name": "ipython",
        "version": 3
      },
      "file_extension": ".py",
      "mimetype": "text/x-python",
      "name": "python",
      "nbconvert_exporter": "python",
      "pygments_lexer": "ipython3",
      "version": "3.11.5"
    }
  },
  "nbformat": 4,
  "nbformat_minor": 0
}
